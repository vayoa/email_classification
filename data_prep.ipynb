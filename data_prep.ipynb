{
 "cells": [
  {
   "cell_type": "code",
   "execution_count": 1,
   "id": "22a36856",
   "metadata": {},
   "outputs": [],
   "source": [
    "import pandas as pd\n",
    "from rich import print"
   ]
  },
  {
   "cell_type": "code",
   "execution_count": null,
   "id": "1198ed0c",
   "metadata": {},
   "outputs": [
    {
     "data": {
      "application/vnd.microsoft.datawrangler.viewer.v0+json": {
       "columns": [
        {
         "name": "index",
         "rawType": "int64",
         "type": "integer"
        },
        {
         "name": "subject",
         "rawType": "object",
         "type": "string"
        },
        {
         "name": "body",
         "rawType": "object",
         "type": "string"
        },
        {
         "name": "category",
         "rawType": "object",
         "type": "string"
        },
        {
         "name": "category_id",
         "rawType": "int64",
         "type": "integer"
        },
        {
         "name": "text",
         "rawType": "object",
         "type": "string"
        },
        {
         "name": "important",
         "rawType": "bool",
         "type": "boolean"
        }
       ],
       "ref": "78581d17-f133-4b3f-ae91-2ddf2f627f4d",
       "rows": [
        [
         "0",
         "Anniversary Special: Buy one get one free",
         "As our loyal customer, get exclusive $60 off $75+: example.com/6058 Offer code: WELCOME20.",
         "promotions",
         "1",
         "Subject: Anniversary Special: Buy one get one free\n\nAs our loyal customer, get exclusive $60 off $75+: example.com/6058 Offer code: WELCOME20.",
         "False"
        ],
        [
         "1",
         "Your Amazon was used on new device",
         "Your $5000 refund is processed. Claim: bit.ly/fakeprize Complete within 48hrshrs.",
         "spam",
         "3",
         "Subject: Your Amazon was used on new device\n\nYour $5000 refund is processed. Claim: bit.ly/fakeprize Complete within 48hrshrs.",
         "False"
        ],
        [
         "2",
         "Re: Your Google inquiry",
         "Hi, following up about your Google application. Rates dropped to 0.9%! Apply now: phishing-site.com. STOP to opt out.",
         "spam",
         "3",
         "Subject: Re: Your Google inquiry\n\nHi, following up about your Google application. Rates dropped to 0.9%! Apply now: phishing-site.com. STOP to opt out.",
         "False"
        ],
        [
         "3",
         "Digital Ritual Experience Creation",
         "Cross-cultural ceremony design. Join: virtualrituals.space Anthropological framework.",
         "social_media",
         "2",
         "Subject: Digital Ritual Experience Creation\n\nCross-cultural ceremony design. Join: virtualrituals.space Anthropological framework.",
         "False"
        ],
        [
         "4",
         "Your post was moved to \"Programming Help\"",
         "Trending: \"cooking\" (258 comments). View: support.site/ticket/456.",
         "forum",
         "0",
         "Subject: Your post was moved to \"Programming Help\"\n\nTrending: \"cooking\" (258 comments). View: support.site/ticket/456.",
         "False"
        ],
        [
         "5",
         "Memories from this week in 2021",
         "45 friends checked in at \"Downtown Cafe\". See photos and menu: social.com/places/cafe.",
         "social_media",
         "2",
         "Subject: Memories from this week in 2021\n\n45 friends checked in at \"Downtown Cafe\". See photos and menu: social.com/places/cafe.",
         "False"
        ],
        [
         "6",
         "PayPal Funds Release",
         "$750 held for verification. Confirm: paypal-fund-release.pay ID: PP-3345.",
         "spam",
         "3",
         "Subject: PayPal Funds Release\n\n$750 held for verification. Confirm: paypal-fund-release.pay ID: PP-3345.",
         "False"
        ],
        [
         "7",
         "Two-step verification code: 426706",
         "For account verification, enter: 924578. Do not share this number.",
         "verify_code",
         "5",
         "Subject: Two-step verification code: 426706\n\nFor account verification, enter: 924578. Do not share this number.",
         "False"
        ],
        [
         "8",
         "Secure access number: 892974",
         "Enter 426706 to verify password reset. Session will auto-cancel after 2 invalid attempts.",
         "verify_code",
         "5",
         "Subject: Secure access number: 892974\n\nEnter 426706 to verify password reset. Session will auto-cancel after 2 invalid attempts.",
         "True"
        ],
        [
         "9",
         "Moderation notice: Community Guidelines update",
         "Thread \"Discussion 719\" moved from General to Support. Continue: support.site/ticket/456.",
         "forum",
         "0",
         "Subject: Moderation notice: Community Guidelines update\n\nThread \"Discussion 719\" moved from General to Support. Continue: support.site/ticket/456.",
         "True"
        ],
        [
         "10",
         "News: Mike Chen started new position",
         "Group update: \"Hiking Buddies\" posted article. Trending in \"Startup Founders\": best summer destination.",
         "social_media",
         "2",
         "Subject: News: Mike Chen started new position\n\nGroup update: \"Hiking Buddies\" posted article. Trending in \"Startup Founders\": best summer destination.",
         "False"
        ],
        [
         "11",
         "Your Netflix subscription suspended",
         "Unusual login detected from Russia. Secure account: phishing-site.com NOW or account suspended.",
         "spam",
         "3",
         "Subject: Your Netflix subscription suspended\n\nUnusual login detected from Russia. Secure account: phishing-site.com NOW or account suspended.",
         "False"
        ],
        [
         "12",
         "Your post was moved to \"Technical Support\"",
         "Thread: \"Discussion 593\" started by PixelArtist. Settings: support.site/ticket/456.",
         "forum",
         "0",
         "Subject: Your post was moved to \"Technical Support\"\n\nThread: \"Discussion 593\" started by PixelArtist. Settings: support.site/ticket/456.",
         "False"
        ],
        [
         "13",
         "Nearby: Meetup today 8PM",
         "View profile: social.com/profile/john123 Accept/reject: social.com/friends/pending.",
         "social_media",
         "2",
         "Subject: Nearby: Meetup today 8PM\n\nView profile: social.com/profile/john123 Accept/reject: social.com/friends/pending.",
         "False"
        ],
        [
         "14",
         "User Spotlight: Member Spotlight",
         "{event} starts {time}. Prepare: support.site/ticket/456.",
         "forum",
         "0",
         "Subject: User Spotlight: Member Spotlight\n\n{event} starts {time}. Prepare: support.site/ticket/456.",
         "False"
        ],
        [
         "15",
         "Apple verification: 713300",
         "Code: 880677 for login confirmation. Do not share. Requested from IP 198.51.100.1 at 14:30 GMT.",
         "verify_code",
         "5",
         "Subject: Apple verification: 713300\n\nCode: 880677 for login confirmation. Do not share. Requested from IP 198.51.100.1 at 14:30 GMT.",
         "False"
        ],
        [
         "16",
         "Free dessert With any order",
         "Deal ends {time}! {items} at lowest prices. Shop now: example.com/7932 Use code: VIP25.",
         "promotions",
         "1",
         "Subject: Free dessert With any order\n\nDeal ends {time}! {items} at lowest prices. Shop now: example.com/7932 Use code: VIP25.",
         "False"
        ],
        [
         "17",
         "Event reminder: Meetup",
         "User: TechGuru99 post. support.site/ticket/456.",
         "forum",
         "0",
         "Subject: Event reminder: Meetup\n\nUser: TechGuru99 post. support.site/ticket/456.",
         "False"
        ],
        [
         "18",
         "Forum Contest: Photo Contest",
         "Thread \"Discussion 551\" moved from General to Support. Continue: support.site/ticket/456.",
         "forum",
         "0",
         "Subject: Forum Contest: Photo Contest\n\nThread \"Discussion 551\" moved from General to Support. Continue: support.site/ticket/456.",
         "False"
        ],
        [
         "19",
         "Last chance: Warehouse clearance",
         "Final hours of biggest sale. Up to 80% off: example.com/3917 Ends {time}.",
         "promotions",
         "1",
         "Subject: Last chance: Warehouse clearance\n\nFinal hours of biggest sale. Up to 80% off: example.com/3917 Ends {time}.",
         "False"
        ],
        [
         "20",
         "New reply in \"Home Server Setup\"",
         "You earned \"Achievement 3\" badge. View profile: wiki.site/page/789.",
         "forum",
         "0",
         "Subject: New reply in \"Home Server Setup\"\n\nYou earned \"Achievement 3\" badge. View profile: wiki.site/page/789.",
         "False"
        ],
        [
         "21",
         "Policy update: Terms of Service changes",
         "Restaurant Main pool closed Aug 20-22 for maintenance, Sep 1, 2-4AM PST. {assignment} confirmed. Manage booking: company.com/updates.",
         "updates",
         "4",
         "Subject: Policy update: Terms of Service changes\n\nRestaurant Main pool closed Aug 20-22 for maintenance, Sep 1, 2-4AM PST. {assignment} confirmed. Manage booking: company.com/updates.",
         "False"
        ],
        [
         "22",
         "Microsoft withdrawal auth: 383921",
         "Token: 202896 expires at 09:45 EST. For support, contact security@company.com.",
         "verify_code",
         "5",
         "Subject: Microsoft withdrawal auth: 383921\n\nToken: 202896 expires at 09:45 EST. For support, contact security@company.com.",
         "True"
        ],
        [
         "23",
         "GitHub verification: 995304",
         "PIN 143774 required for password reset on Apple.",
         "verify_code",
         "5",
         "Subject: GitHub verification: 995304\n\nPIN 143774 required for password reset on Apple.",
         "True"
        ],
        [
         "24",
         "GitHub verification: 528905",
         "Enter 892974 to verify password reset. Session will auto-cancel after 3 invalid attempts.",
         "verify_code",
         "5",
         "Subject: GitHub verification: 528905\n\nEnter 892974 to verify password reset. Session will auto-cancel after 3 invalid attempts.",
         "True"
        ],
        [
         "25",
         "Authentication token: 411101",
         "Token: 321516 expires at 16:20 PST. For support, contact no-reply@auth.com.",
         "verify_code",
         "5",
         "Subject: Authentication token: 411101\n\nToken: 321516 expires at 16:20 PST. For support, contact no-reply@auth.com.",
         "True"
        ],
        [
         "26",
         "Your appointment confirmed: Dec 20, 3-5AM GMT",
         "Thank you! $156.50 payment applied to account. Receipt: company.com/updates.",
         "updates",
         "4",
         "Subject: Your appointment confirmed: Dec 20, 3-5AM GMT\n\nThank you! $156.50 payment applied to account. Receipt: company.com/updates.",
         "True"
        ],
        [
         "27",
         "New reply in \"Home Server Setup\"",
         "Thread \"Discussion 232\" moved from General to Support. Continue: forum.com/thread/123.",
         "forum",
         "0",
         "Subject: New reply in \"Home Server Setup\"\n\nThread \"Discussion 232\" moved from General to Support. Continue: forum.com/thread/123.",
         "False"
        ],
        [
         "28",
         "Member Exclusive: Extra 20% off clearance",
         "Hello valued member, enjoy Free shipping all week. Shop now: example.com/3034 Expires {date}.",
         "promotions",
         "1",
         "Subject: Member Exclusive: Extra 20% off clearance\n\nHello valued member, enjoy Free shipping all week. Shop now: example.com/3034 Expires {date}.",
         "True"
        ],
        [
         "29",
         "Nearby: Product Launch today 9AM",
         "story from Paris received 234 likes and 67 comments. See insights: social.com/insights/post123.",
         "social_media",
         "2",
         "Subject: Nearby: Product Launch today 9AM\n\nstory from Paris received 234 likes and 67 comments. See insights: social.com/insights/post123.",
         "False"
        ],
        [
         "30",
         "Your post was moved to \"General Discussion\"",
         "Thread \"Discussion 958\" moved from General to Support. Continue: forum.com/thread/123.",
         "forum",
         "0",
         "Subject: Your post was moved to \"General Discussion\"\n\nThread \"Discussion 958\" moved from General to Support. Continue: forum.com/thread/123.",
         "False"
        ],
        [
         "31",
         "AMA session: Science Professor",
         "{event} starts {time}. Prepare: forum.com/thread/123.",
         "forum",
         "0",
         "Subject: AMA session: Science Professor\n\n{event} starts {time}. Prepare: forum.com/thread/123.",
         "False"
        ],
        [
         "32",
         "Payment received: Invoice INV-7891",
         "We've updated our Privacy Policy. Review changes: company.com/updates Effective Dec 20.",
         "updates",
         "4",
         "Subject: Payment received: Invoice INV-7891\n\nWe've updated our Privacy Policy. Review changes: company.com/updates Effective Dec 20.",
         "True"
        ],
        [
         "33",
         "New thread in \"Career Advice\" matches alert",
         "report per report #1093. Details: wiki.site/page/789.",
         "forum",
         "0",
         "Subject: New thread in \"Career Advice\" matches alert\n\nreport per report #1093. Details: wiki.site/page/789.",
         "False"
        ],
        [
         "34",
         "Your Amazon was used on new device",
         "Immediate action required! Your subscription payment failed. Update payment: bit.ly/fakeprize Or call \"support\": 888-SCAM.",
         "spam",
         "3",
         "Subject: Your Amazon was used on new device\n\nImmediate action required! Your subscription payment failed. Update payment: bit.ly/fakeprize Or call \"support\": 888-SCAM.",
         "False"
        ],
        [
         "35",
         "Verification PIN: 411101",
         "Your access code is 421450 for password reset. Valid once only.",
         "verify_code",
         "5",
         "Subject: Verification PIN: 411101\n\nYour access code is 421450 for password reset. Valid once only.",
         "True"
        ],
        [
         "36",
         "Auto-payment failed for subscription",
         "Your September statement is available. View/download: company.com/updates No action needed if payment scheduled.",
         "updates",
         "4",
         "Subject: Auto-payment failed for subscription\n\nYour September statement is available. View/download: company.com/updates No action needed if payment scheduled.",
         "True"
        ],
        [
         "37",
         "Login code: 776979 (do not reply)",
         "Enter 647375 to verify password reset. Session will auto-cancel after 2 invalid attempts.",
         "verify_code",
         "5",
         "Subject: Login code: 776979 (do not reply)\n\nEnter 647375 to verify password reset. Session will auto-cancel after 2 invalid attempts.",
         "True"
        ],
        [
         "38",
         "Your anniversary discount is here!",
         "Hello valued member, enjoy Buy one get one free. Shop now: example.com/6995 Expires {date}.",
         "promotions",
         "1",
         "Subject: Your anniversary discount is here!\n\nHello valued member, enjoy Buy one get one free. Shop now: example.com/6995 Expires {date}.",
         "True"
        ],
        [
         "39",
         "Password Reset PIN: 552637",
         "Your account recovery PIN is 552637. Submit within 5 minutes at resetportal.com. Browser details: Firefox on Windows 11 from IP 108.45.xx.xx. Suspicious activity monitoring activated.",
         "verify_code",
         "5",
         "Subject: Password Reset PIN: 552637\n\nYour account recovery PIN is 552637. Submit within 5 minutes at resetportal.com. Browser details: Firefox on Windows 11 from IP 108.45.xx.xx. Suspicious activity monitoring activated.",
         "True"
        ],
        [
         "40",
         "Warning: Violation in Python Coding Challenge",
         "Thread: \"Discussion 574\" started by PixelArtist. Settings: forum.com/thread/123.",
         "forum",
         "0",
         "Subject: Warning: Violation in Python Coding Challenge\n\nThread: \"Discussion 574\" started by PixelArtist. Settings: forum.com/thread/123.",
         "False"
        ],
        [
         "41",
         "Last chance: End of season sale",
         "Celebrate with 30% off entire purchase. Valid 48: example.com/6939 Code: SAVE50.",
         "promotions",
         "1",
         "Subject: Last chance: End of season sale\n\nCelebrate with 30% off entire purchase. Valid 48: example.com/6939 Code: SAVE50.",
         "False"
        ],
        [
         "42",
         "Payment overdue notice #ID2039",
         "Your package couldn't be delivered. Tracking# AB-123. Update now: scam-delivery.com Do not ignore!",
         "spam",
         "3",
         "Subject: Payment overdue notice #ID2039\n\nYour package couldn't be delivered. Tracking# AB-123. Update now: scam-delivery.com Do not ignore!",
         "False"
        ],
        [
         "43",
         "Membership upgrade: delivered achieved!",
         "We've updated our User Agreement. Review changes: company.com/updates Effective Oct 5.",
         "updates",
         "4",
         "Subject: Membership upgrade: delivered achieved!\n\nWe've updated our User Agreement. Review changes: company.com/updates Effective Oct 5.",
         "False"
        ],
        [
         "44",
         "Mod application open for Technical Support",
         "User: PixelArtist posted helpful solution. View: wiki.site/page/789.",
         "forum",
         "0",
         "Subject: Mod application open for Technical Support\n\nUser: PixelArtist posted helpful solution. View: wiki.site/page/789.",
         "False"
        ],
        [
         "45",
         "You've been selected for Maldives trip",
         "Your $5000 refund is processed. Claim: bit.ly/fakeprize Complete within 48hrshrs.",
         "spam",
         "3",
         "Subject: You've been selected for Maldives trip\n\nYour $5000 refund is processed. Claim: bit.ly/fakeprize Complete within 48hrshrs.",
         "False"
        ],
        [
         "46",
         "Event invitation: Workshop Oct 10",
         "View profile: platform.com/users/sarah Accept/reject: social.com/friends/pending.",
         "social_media",
         "2",
         "Subject: Event invitation: Workshop Oct 10\n\nView profile: platform.com/users/sarah Accept/reject: social.com/friends/pending.",
         "False"
        ],
        [
         "47",
         "Wiki Edit Approved: techsupport",
         "comment per report #7912. Details: forum.com/thread/123.",
         "forum",
         "0",
         "Subject: Wiki Edit Approved: techsupport\n\ncomment per report #7912. Details: forum.com/thread/123.",
         "False"
        ],
        [
         "48",
         "[Moderator] Your comment was processed",
         "Thread \"Discussion 858\" moved from General to Support. Continue: wiki.site/page/789.",
         "forum",
         "0",
         "Subject: [Moderator] Your comment was processed\n\nThread \"Discussion 858\" moved from General to Support. Continue: wiki.site/page/789.",
         "False"
        ],
        [
         "49",
         "Gourmet Food Festival Pass",
         "VIP tasting experience $99 (regular $150): gourmetevents.com/festival-pass. Unlimited samples from 50+ artisans. Complimentary wine pairing guide.",
         "promotions",
         "1",
         "Subject: Gourmet Food Festival Pass\n\nVIP tasting experience $99 (regular $150): gourmetevents.com/festival-pass. Unlimited samples from 50+ artisans. Complimentary wine pairing guide.",
         "False"
        ]
       ],
       "shape": {
        "columns": 6,
        "rows": 13477
       }
      },
      "text/html": [
       "<div>\n",
       "<style scoped>\n",
       "    .dataframe tbody tr th:only-of-type {\n",
       "        vertical-align: middle;\n",
       "    }\n",
       "\n",
       "    .dataframe tbody tr th {\n",
       "        vertical-align: top;\n",
       "    }\n",
       "\n",
       "    .dataframe thead th {\n",
       "        text-align: right;\n",
       "    }\n",
       "</style>\n",
       "<table border=\"1\" class=\"dataframe\">\n",
       "  <thead>\n",
       "    <tr style=\"text-align: right;\">\n",
       "      <th></th>\n",
       "      <th>subject</th>\n",
       "      <th>body</th>\n",
       "      <th>category</th>\n",
       "      <th>category_id</th>\n",
       "      <th>text</th>\n",
       "      <th>important</th>\n",
       "    </tr>\n",
       "  </thead>\n",
       "  <tbody>\n",
       "    <tr>\n",
       "      <th>0</th>\n",
       "      <td>Anniversary Special: Buy one get one free</td>\n",
       "      <td>As our loyal customer, get exclusive $60 off $...</td>\n",
       "      <td>promotions</td>\n",
       "      <td>1</td>\n",
       "      <td>Subject: Anniversary Special: Buy one get one ...</td>\n",
       "      <td>False</td>\n",
       "    </tr>\n",
       "    <tr>\n",
       "      <th>1</th>\n",
       "      <td>Your Amazon was used on new device</td>\n",
       "      <td>Your $5000 refund is processed. Claim: bit.ly/...</td>\n",
       "      <td>spam</td>\n",
       "      <td>3</td>\n",
       "      <td>Subject: Your Amazon was used on new device\\n\\...</td>\n",
       "      <td>False</td>\n",
       "    </tr>\n",
       "    <tr>\n",
       "      <th>2</th>\n",
       "      <td>Re: Your Google inquiry</td>\n",
       "      <td>Hi, following up about your Google application...</td>\n",
       "      <td>spam</td>\n",
       "      <td>3</td>\n",
       "      <td>Subject: Re: Your Google inquiry\\n\\nHi, follow...</td>\n",
       "      <td>False</td>\n",
       "    </tr>\n",
       "    <tr>\n",
       "      <th>3</th>\n",
       "      <td>Digital Ritual Experience Creation</td>\n",
       "      <td>Cross-cultural ceremony design. Join: virtualr...</td>\n",
       "      <td>social_media</td>\n",
       "      <td>2</td>\n",
       "      <td>Subject: Digital Ritual Experience Creation\\n\\...</td>\n",
       "      <td>False</td>\n",
       "    </tr>\n",
       "    <tr>\n",
       "      <th>4</th>\n",
       "      <td>Your post was moved to \"Programming Help\"</td>\n",
       "      <td>Trending: \"cooking\" (258 comments). View: supp...</td>\n",
       "      <td>forum</td>\n",
       "      <td>0</td>\n",
       "      <td>Subject: Your post was moved to \"Programming H...</td>\n",
       "      <td>False</td>\n",
       "    </tr>\n",
       "    <tr>\n",
       "      <th>...</th>\n",
       "      <td>...</td>\n",
       "      <td>...</td>\n",
       "      <td>...</td>\n",
       "      <td>...</td>\n",
       "      <td>...</td>\n",
       "      <td>...</td>\n",
       "    </tr>\n",
       "    <tr>\n",
       "      <th>13472</th>\n",
       "      <td>News from groups you follow</td>\n",
       "      <td>Alex: \"Anyone free this weekend?\" Lisa: \"Count...</td>\n",
       "      <td>social_media</td>\n",
       "      <td>2</td>\n",
       "      <td>Subject: News from groups you follow\\n\\nAlex: ...</td>\n",
       "      <td>False</td>\n",
       "    </tr>\n",
       "    <tr>\n",
       "      <th>13473</th>\n",
       "      <td>Identity verification required: 756179</td>\n",
       "      <td>Your access code is 907472 for transaction aut...</td>\n",
       "      <td>verify_code</td>\n",
       "      <td>5</td>\n",
       "      <td>Subject: Identity verification required: 75617...</td>\n",
       "      <td>False</td>\n",
       "    </tr>\n",
       "    <tr>\n",
       "      <th>13474</th>\n",
       "      <td>Moderation notice: Community Guidelines update</td>\n",
       "      <td>Trending: \"cooking\" (258 comments). View: supp...</td>\n",
       "      <td>forum</td>\n",
       "      <td>0</td>\n",
       "      <td>Subject: Moderation notice: Community Guidelin...</td>\n",
       "      <td>True</td>\n",
       "    </tr>\n",
       "    <tr>\n",
       "      <th>13475</th>\n",
       "      <td>Renew Google subscription 80% off</td>\n",
       "      <td>Your package couldn't be delivered. Tracking# ...</td>\n",
       "      <td>spam</td>\n",
       "      <td>3</td>\n",
       "      <td>Subject: Renew Google subscription 80% off\\n\\n...</td>\n",
       "      <td>False</td>\n",
       "    </tr>\n",
       "    <tr>\n",
       "      <th>13476</th>\n",
       "      <td>Early access: Summer sale start now</td>\n",
       "      <td>Final hours of biggest sale. Up to 30% off: ex...</td>\n",
       "      <td>promotions</td>\n",
       "      <td>1</td>\n",
       "      <td>Subject: Early access: Summer sale start now\\n...</td>\n",
       "      <td>False</td>\n",
       "    </tr>\n",
       "  </tbody>\n",
       "</table>\n",
       "<p>13477 rows × 6 columns</p>\n",
       "</div>"
      ],
      "text/plain": [
       "                                              subject  \\\n",
       "0           Anniversary Special: Buy one get one free   \n",
       "1                  Your Amazon was used on new device   \n",
       "2                             Re: Your Google inquiry   \n",
       "3                  Digital Ritual Experience Creation   \n",
       "4           Your post was moved to \"Programming Help\"   \n",
       "...                                               ...   \n",
       "13472                     News from groups you follow   \n",
       "13473          Identity verification required: 756179   \n",
       "13474  Moderation notice: Community Guidelines update   \n",
       "13475               Renew Google subscription 80% off   \n",
       "13476             Early access: Summer sale start now   \n",
       "\n",
       "                                                    body      category  \\\n",
       "0      As our loyal customer, get exclusive $60 off $...    promotions   \n",
       "1      Your $5000 refund is processed. Claim: bit.ly/...          spam   \n",
       "2      Hi, following up about your Google application...          spam   \n",
       "3      Cross-cultural ceremony design. Join: virtualr...  social_media   \n",
       "4      Trending: \"cooking\" (258 comments). View: supp...         forum   \n",
       "...                                                  ...           ...   \n",
       "13472  Alex: \"Anyone free this weekend?\" Lisa: \"Count...  social_media   \n",
       "13473  Your access code is 907472 for transaction aut...   verify_code   \n",
       "13474  Trending: \"cooking\" (258 comments). View: supp...         forum   \n",
       "13475  Your package couldn't be delivered. Tracking# ...          spam   \n",
       "13476  Final hours of biggest sale. Up to 30% off: ex...    promotions   \n",
       "\n",
       "       category_id                                               text  \\\n",
       "0                1  Subject: Anniversary Special: Buy one get one ...   \n",
       "1                3  Subject: Your Amazon was used on new device\\n\\...   \n",
       "2                3  Subject: Re: Your Google inquiry\\n\\nHi, follow...   \n",
       "3                2  Subject: Digital Ritual Experience Creation\\n\\...   \n",
       "4                0  Subject: Your post was moved to \"Programming H...   \n",
       "...            ...                                                ...   \n",
       "13472            2  Subject: News from groups you follow\\n\\nAlex: ...   \n",
       "13473            5  Subject: Identity verification required: 75617...   \n",
       "13474            0  Subject: Moderation notice: Community Guidelin...   \n",
       "13475            3  Subject: Renew Google subscription 80% off\\n\\n...   \n",
       "13476            1  Subject: Early access: Summer sale start now\\n...   \n",
       "\n",
       "       important  \n",
       "0          False  \n",
       "1          False  \n",
       "2          False  \n",
       "3          False  \n",
       "4          False  \n",
       "...          ...  \n",
       "13472      False  \n",
       "13473      False  \n",
       "13474       True  \n",
       "13475      False  \n",
       "13476      False  \n",
       "\n",
       "[13477 rows x 6 columns]"
      ]
     },
     "execution_count": 2,
     "metadata": {},
     "output_type": "execute_result"
    }
   ],
   "source": [
    "# https://huggingface.co/datasets/jason23322/high-accuracy-email-classifier\n",
    "\n",
    "emails = pd.read_csv(\"./full_dataset.csv\").drop(columns=[\"id\", \"text\"])\n",
    "emails[\"text\"] = (\n",
    "    \"Subject: \" + emails[\"subject\"].fillna(\"\") + \"\\n\\n\" + emails[\"body\"].fillna(\"\")\n",
    ")\n",
    "emails[\"important\"] = emails[\"text\"].str.contains(\n",
    "    \"important|urgent|urgency|payment|security|notice|fail|expire|expired|password|invoice\",\n",
    "    case=False,\n",
    ")\n",
    "emails.loc[emails[\"important\"] & (emails[\"category\"] == \"spam\"), \"important\"] = False\n",
    "emails"
   ]
  },
  {
   "cell_type": "code",
   "execution_count": 3,
   "id": "55ac5927",
   "metadata": {},
   "outputs": [
    {
     "data": {
      "text/html": [
       "<pre style=\"white-space:pre;overflow-x:auto;line-height:normal;font-family:Menlo,'DejaVu Sans Mono',consolas,'Courier New',monospace\">Size: <span style=\"color: #008080; text-decoration-color: #008080; font-weight: bold\">13477</span>\n",
       "</pre>\n"
      ],
      "text/plain": [
       "Size: \u001b[1;36m13477\u001b[0m\n"
      ]
     },
     "metadata": {},
     "output_type": "display_data"
    },
    {
     "data": {
      "application/vnd.microsoft.datawrangler.viewer.v0+json": {
       "columns": [
        {
         "name": "index",
         "rawType": "object",
         "type": "string"
        },
        {
         "name": "percentage",
         "rawType": "float64",
         "type": "float"
        },
        {
         "name": "count",
         "rawType": "int64",
         "type": "integer"
        }
       ],
       "ref": "84ce389a-1bb5-4c34-9900-e21172b7920a",
       "rows": [
        [
         "verify_code",
         "16.7",
         "2251"
        ],
        [
         "forum",
         "16.7",
         "2250"
        ],
        [
         "promotions",
         "16.66",
         "2245"
        ],
        [
         "social_media",
         "16.66",
         "2245"
        ],
        [
         "spam",
         "16.64",
         "2243"
        ],
        [
         "updates",
         "16.64",
         "2243"
        ]
       ],
       "shape": {
        "columns": 2,
        "rows": 6
       }
      },
      "text/html": [
       "<div>\n",
       "<style scoped>\n",
       "    .dataframe tbody tr th:only-of-type {\n",
       "        vertical-align: middle;\n",
       "    }\n",
       "\n",
       "    .dataframe tbody tr th {\n",
       "        vertical-align: top;\n",
       "    }\n",
       "\n",
       "    .dataframe thead th {\n",
       "        text-align: right;\n",
       "    }\n",
       "</style>\n",
       "<table border=\"1\" class=\"dataframe\">\n",
       "  <thead>\n",
       "    <tr style=\"text-align: right;\">\n",
       "      <th></th>\n",
       "      <th>percentage</th>\n",
       "      <th>count</th>\n",
       "    </tr>\n",
       "  </thead>\n",
       "  <tbody>\n",
       "    <tr>\n",
       "      <th>verify_code</th>\n",
       "      <td>16.70</td>\n",
       "      <td>2251</td>\n",
       "    </tr>\n",
       "    <tr>\n",
       "      <th>forum</th>\n",
       "      <td>16.70</td>\n",
       "      <td>2250</td>\n",
       "    </tr>\n",
       "    <tr>\n",
       "      <th>promotions</th>\n",
       "      <td>16.66</td>\n",
       "      <td>2245</td>\n",
       "    </tr>\n",
       "    <tr>\n",
       "      <th>social_media</th>\n",
       "      <td>16.66</td>\n",
       "      <td>2245</td>\n",
       "    </tr>\n",
       "    <tr>\n",
       "      <th>spam</th>\n",
       "      <td>16.64</td>\n",
       "      <td>2243</td>\n",
       "    </tr>\n",
       "    <tr>\n",
       "      <th>updates</th>\n",
       "      <td>16.64</td>\n",
       "      <td>2243</td>\n",
       "    </tr>\n",
       "  </tbody>\n",
       "</table>\n",
       "</div>"
      ],
      "text/plain": [
       "              percentage  count\n",
       "verify_code        16.70   2251\n",
       "forum              16.70   2250\n",
       "promotions         16.66   2245\n",
       "social_media       16.66   2245\n",
       "spam               16.64   2243\n",
       "updates            16.64   2243"
      ]
     },
     "execution_count": 3,
     "metadata": {},
     "output_type": "execute_result"
    }
   ],
   "source": [
    "print('Size:', len(emails))\n",
    "pd.concat(\n",
    "    [\n",
    "        (emails[\"category\"].value_counts(normalize=True) * 100).round(2).rename('percentage'),\n",
    "        emails[\"category\"].value_counts().rename('count'),\n",
    "    ],\n",
    "    axis=1,\n",
    ")"
   ]
  },
  {
   "cell_type": "code",
   "execution_count": 4,
   "id": "1ea923ea",
   "metadata": {},
   "outputs": [
    {
     "data": {
      "application/vnd.microsoft.datawrangler.viewer.v0+json": {
       "columns": [
        {
         "name": "index",
         "rawType": "bool",
         "type": "boolean"
        },
        {
         "name": "percentage",
         "rawType": "float64",
         "type": "float"
        },
        {
         "name": "count",
         "rawType": "int64",
         "type": "integer"
        }
       ],
       "ref": "6d6d6a24-095d-4605-88a9-cf54a8be3339",
       "rows": [
        [
         "False",
         "79.59",
         "10726"
        ],
        [
         "True",
         "20.41",
         "2751"
        ]
       ],
       "shape": {
        "columns": 2,
        "rows": 2
       }
      },
      "text/html": [
       "<div>\n",
       "<style scoped>\n",
       "    .dataframe tbody tr th:only-of-type {\n",
       "        vertical-align: middle;\n",
       "    }\n",
       "\n",
       "    .dataframe tbody tr th {\n",
       "        vertical-align: top;\n",
       "    }\n",
       "\n",
       "    .dataframe thead th {\n",
       "        text-align: right;\n",
       "    }\n",
       "</style>\n",
       "<table border=\"1\" class=\"dataframe\">\n",
       "  <thead>\n",
       "    <tr style=\"text-align: right;\">\n",
       "      <th></th>\n",
       "      <th>percentage</th>\n",
       "      <th>count</th>\n",
       "    </tr>\n",
       "  </thead>\n",
       "  <tbody>\n",
       "    <tr>\n",
       "      <th>False</th>\n",
       "      <td>79.59</td>\n",
       "      <td>10726</td>\n",
       "    </tr>\n",
       "    <tr>\n",
       "      <th>True</th>\n",
       "      <td>20.41</td>\n",
       "      <td>2751</td>\n",
       "    </tr>\n",
       "  </tbody>\n",
       "</table>\n",
       "</div>"
      ],
      "text/plain": [
       "       percentage  count\n",
       "False       79.59  10726\n",
       "True        20.41   2751"
      ]
     },
     "execution_count": 4,
     "metadata": {},
     "output_type": "execute_result"
    }
   ],
   "source": [
    "pd.concat(\n",
    "    [\n",
    "        (emails[\"important\"].value_counts(normalize=True) * 100).round(2).rename('percentage'),\n",
    "        emails[\"important\"].value_counts().rename('count'),\n",
    "    ],\n",
    "    axis=1,\n",
    ")"
   ]
  },
  {
   "cell_type": "code",
   "execution_count": 5,
   "id": "a05461b8",
   "metadata": {},
   "outputs": [
    {
     "data": {
      "application/vnd.microsoft.datawrangler.viewer.v0+json": {
       "columns": [
        {
         "name": "index",
         "rawType": "object",
         "type": "string"
        },
        {
         "name": "text",
         "rawType": "float64",
         "type": "float"
        }
       ],
       "ref": "8470e062-87d6-4307-aac7-e015fb1a00f2",
       "rows": [
        [
         "count",
         "13477.0"
        ],
        [
         "mean",
         "17.119907991392743"
        ],
        [
         "std",
         "6.892111742114977"
        ],
        [
         "min",
         "8.0"
        ],
        [
         "25%",
         "14.0"
        ],
        [
         "50%",
         "17.0"
        ],
        [
         "75%",
         "19.0"
        ],
        [
         "max",
         "250.0"
        ]
       ],
       "shape": {
        "columns": 1,
        "rows": 8
       }
      },
      "text/plain": [
       "count    13477.000000\n",
       "mean        17.119908\n",
       "std          6.892112\n",
       "min          8.000000\n",
       "25%         14.000000\n",
       "50%         17.000000\n",
       "75%         19.000000\n",
       "max        250.000000\n",
       "Name: text, dtype: float64"
      ]
     },
     "execution_count": 5,
     "metadata": {},
     "output_type": "execute_result"
    }
   ],
   "source": [
    "emails['text'].str.split().str.len().describe()"
   ]
  },
  {
   "cell_type": "code",
   "execution_count": 6,
   "id": "4446d40c",
   "metadata": {},
   "outputs": [],
   "source": [
    "emails.to_csv('email_dataset.csv')"
   ]
  }
 ],
 "metadata": {
  "kernelspec": {
   "display_name": "Python 3",
   "language": "python",
   "name": "python3"
  },
  "language_info": {
   "codemirror_mode": {
    "name": "ipython",
    "version": 3
   },
   "file_extension": ".py",
   "mimetype": "text/x-python",
   "name": "python",
   "nbconvert_exporter": "python",
   "pygments_lexer": "ipython3",
   "version": "3.11.9"
  }
 },
 "nbformat": 4,
 "nbformat_minor": 5
}
